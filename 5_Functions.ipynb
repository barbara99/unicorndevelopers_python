{
  "nbformat": 4,
  "nbformat_minor": 0,
  "metadata": {
    "colab": {
      "name": "5. Functions.ipynb",
      "provenance": [],
      "collapsed_sections": [],
      "include_colab_link": true
    },
    "kernelspec": {
      "name": "python3",
      "display_name": "Python 3"
    }
  },
  "cells": [
    {
      "cell_type": "markdown",
      "metadata": {
        "id": "view-in-github",
        "colab_type": "text"
      },
      "source": [
        "<a href=\"https://colab.research.google.com/github/barbara99/unicorndevelopers_python/blob/main/5_Functions.ipynb\" target=\"_parent\"><img src=\"https://colab.research.google.com/assets/colab-badge.svg\" alt=\"Open In Colab\"/></a>"
      ]
    },
    {
      "cell_type": "markdown",
      "metadata": {
        "id": "2qdHbV6LKCdn"
      },
      "source": [
        "# 1. BUILT-IN FUNCTIONS"
      ]
    },
    {
      "cell_type": "code",
      "metadata": {
        "id": "e027nLRtKclL"
      },
      "source": [
        "# There are many built-in functions that you can leverage directly \n",
        "# Let's define 2 lists x and y\n",
        "x = [4, 5, 1, 2, 8, 5]\n",
        "y = list(range(1, 7))"
      ],
      "execution_count": null,
      "outputs": []
    },
    {
      "cell_type": "code",
      "metadata": {
        "id": "B_q1ds-xKcnQ",
        "outputId": "6b12a522-91c8-4113-d4fc-a094525f0dc6",
        "colab": {
          "base_uri": "https://localhost:8080/",
          "height": 34
        }
      },
      "source": [
        "x"
      ],
      "execution_count": null,
      "outputs": [
        {
          "output_type": "execute_result",
          "data": {
            "text/plain": [
              "[4, 5, 1, 2, 8, 5]"
            ]
          },
          "metadata": {
            "tags": []
          },
          "execution_count": 2
        }
      ]
    },
    {
      "cell_type": "code",
      "metadata": {
        "id": "wlYds_UIK3Uq",
        "outputId": "3fc97f33-681a-4f61-e17c-e5c6d646eb78",
        "colab": {
          "base_uri": "https://localhost:8080/",
          "height": 34
        }
      },
      "source": [
        "y"
      ],
      "execution_count": null,
      "outputs": [
        {
          "output_type": "execute_result",
          "data": {
            "text/plain": [
              "[1, 2, 3, 4, 5, 6]"
            ]
          },
          "metadata": {
            "tags": []
          },
          "execution_count": 3
        }
      ]
    },
    {
      "cell_type": "code",
      "metadata": {
        "id": "sOb6YyohK3XA",
        "outputId": "99658617-f45d-48cc-e2b5-c8e6cbf5ad7e",
        "colab": {
          "base_uri": "https://localhost:8080/",
          "height": 34
        }
      },
      "source": [
        "# Let's obtain the length of y\n",
        "len(y)"
      ],
      "execution_count": null,
      "outputs": [
        {
          "output_type": "execute_result",
          "data": {
            "text/plain": [
              "6"
            ]
          },
          "metadata": {
            "tags": []
          },
          "execution_count": 4
        }
      ]
    },
    {
      "cell_type": "code",
      "metadata": {
        "id": "E2d-scjBK3f_",
        "outputId": "925b9ae5-d4dc-457d-93f7-29ac6b1fdc22",
        "colab": {
          "base_uri": "https://localhost:8080/",
          "height": 34
        }
      },
      "source": [
        "# Let's obtain the minimum value \n",
        "min(x)"
      ],
      "execution_count": null,
      "outputs": [
        {
          "output_type": "execute_result",
          "data": {
            "text/plain": [
              "1"
            ]
          },
          "metadata": {
            "tags": []
          },
          "execution_count": 5
        }
      ]
    },
    {
      "cell_type": "code",
      "metadata": {
        "id": "MPcUuoY6K3id",
        "outputId": "aa1d0f71-0076-4d30-a3a1-aa69eba73282",
        "colab": {
          "base_uri": "https://localhost:8080/",
          "height": 34
        }
      },
      "source": [
        "# Let's obtain the maximum value\n",
        "max(x)"
      ],
      "execution_count": null,
      "outputs": [
        {
          "output_type": "execute_result",
          "data": {
            "text/plain": [
              "8"
            ]
          },
          "metadata": {
            "tags": []
          },
          "execution_count": 6
        }
      ]
    },
    {
      "cell_type": "code",
      "metadata": {
        "id": "oo4EvfwgK3nQ"
      },
      "source": [
        "# Let's create a tuple out of the list\n",
        "z = tuple(x)"
      ],
      "execution_count": null,
      "outputs": []
    },
    {
      "cell_type": "code",
      "metadata": {
        "id": "gbcSW9n5Lrf0",
        "outputId": "8ae86bdf-2105-4d37-e950-7c9aed50a941",
        "colab": {
          "base_uri": "https://localhost:8080/",
          "height": 34
        }
      },
      "source": [
        "z"
      ],
      "execution_count": null,
      "outputs": [
        {
          "output_type": "execute_result",
          "data": {
            "text/plain": [
              "(4, 5, 1, 2, 8, 5)"
            ]
          },
          "metadata": {
            "tags": []
          },
          "execution_count": 8
        }
      ]
    },
    {
      "cell_type": "code",
      "metadata": {
        "id": "S-BLWy_AK3lL",
        "outputId": "07303966-79bd-4e28-814d-8ba22fdc4623",
        "colab": {
          "base_uri": "https://localhost:8080/",
          "height": 34
        }
      },
      "source": [
        "type(z)"
      ],
      "execution_count": null,
      "outputs": [
        {
          "output_type": "execute_result",
          "data": {
            "text/plain": [
              "tuple"
            ]
          },
          "metadata": {
            "tags": []
          },
          "execution_count": 9
        }
      ]
    },
    {
      "cell_type": "code",
      "metadata": {
        "id": "NYVetBn-Kcpk",
        "outputId": "f40d8dfd-3274-4ec5-9b75-8af7c8d0c661",
        "colab": {
          "base_uri": "https://localhost:8080/",
          "height": 34
        }
      },
      "source": [
        "# Let's obtain the sum of elements in x\n",
        "print(sum(x))"
      ],
      "execution_count": null,
      "outputs": [
        {
          "output_type": "stream",
          "text": [
            "25\n"
          ],
          "name": "stdout"
        }
      ]
    },
    {
      "cell_type": "markdown",
      "metadata": {
        "id": "CvaYA-XocFOc"
      },
      "source": [
        "**MINI CHALLENGE #1:**\n",
        "- **Write a code that takes in 2 lists x = [-1 -4 -7] and y = [-3 7 4] and  calculates the absolute sum of all its elements |x+y|**\n"
      ]
    },
    {
      "cell_type": "code",
      "metadata": {
        "id": "DMYqI7CBekNI"
      },
      "source": [
        ""
      ],
      "execution_count": null,
      "outputs": []
    },
    {
      "cell_type": "markdown",
      "metadata": {
        "id": "AHrwK11xMArY"
      },
      "source": [
        "# 2. FUNCTIONS"
      ]
    },
    {
      "cell_type": "code",
      "metadata": {
        "id": "LhhFvM60MGrX"
      },
      "source": [
        "# Let's define a function named \"my_function\" that does not receive any arguments\n",
        "# The function simply prints out content and does not return anything\n",
        "def my_function():\n",
        "    print('Welcome to Python for Finance course!')"
      ],
      "execution_count": null,
      "outputs": []
    },
    {
      "cell_type": "code",
      "metadata": {
        "id": "-jJdkGlGMGwE",
        "outputId": "342adf4c-3ee9-4221-8c68-a70b3ffc623c",
        "colab": {
          "base_uri": "https://localhost:8080/",
          "height": 34
        }
      },
      "source": [
        "# Function call\n",
        "my_function()"
      ],
      "execution_count": null,
      "outputs": [
        {
          "output_type": "stream",
          "text": [
            "Welcome to Python for Finance course!\n"
          ],
          "name": "stdout"
        }
      ]
    },
    {
      "cell_type": "code",
      "metadata": {
        "id": "OSVyOu91MGuW"
      },
      "source": [
        "# Define a function that takes in argument x and return the squared value \n",
        "def squared(x):\n",
        "    return x ** 2"
      ],
      "execution_count": null,
      "outputs": []
    },
    {
      "cell_type": "code",
      "metadata": {
        "id": "NVPrMz2_MPz1",
        "outputId": "e3166b3a-e42e-4188-c0f3-762bf6237b43",
        "colab": {
          "base_uri": "https://localhost:8080/",
          "height": 34
        }
      },
      "source": [
        "# Call the function\n",
        "output = squared(4)\n",
        "output"
      ],
      "execution_count": null,
      "outputs": [
        {
          "output_type": "execute_result",
          "data": {
            "text/plain": [
              "16"
            ]
          },
          "metadata": {
            "tags": []
          },
          "execution_count": 14
        }
      ]
    },
    {
      "cell_type": "code",
      "metadata": {
        "id": "6ET-hFiSMPxi"
      },
      "source": [
        "# Define a function with default value \n",
        "def my_function(amount = 20000):\n",
        "    print(\"My total portfolio worth is = {}\".format(amount))"
      ],
      "execution_count": null,
      "outputs": []
    },
    {
      "cell_type": "code",
      "metadata": {
        "id": "-tiaDshNM48J",
        "outputId": "7f2d9e09-9d75-4014-cb07-6f2aaf01eeed",
        "colab": {
          "base_uri": "https://localhost:8080/",
          "height": 34
        }
      },
      "source": [
        "# If you pass an argument to the function, it overwrites the default value \n",
        "my_function(600000)"
      ],
      "execution_count": null,
      "outputs": [
        {
          "output_type": "stream",
          "text": [
            "My total portfolio worth is = 600000\n"
          ],
          "name": "stdout"
        }
      ]
    },
    {
      "cell_type": "code",
      "metadata": {
        "id": "-cPR_Cg-M6nm",
        "outputId": "a12d6779-ade4-4347-8cdf-8336b65ea12f",
        "colab": {
          "base_uri": "https://localhost:8080/",
          "height": 34
        }
      },
      "source": [
        "# If you don't pass an argument, the default value \"20000\" will be used instead\n",
        "my_function()"
      ],
      "execution_count": null,
      "outputs": [
        {
          "output_type": "stream",
          "text": [
            "My total portfolio worth is = 20000\n"
          ],
          "name": "stdout"
        }
      ]
    },
    {
      "cell_type": "markdown",
      "metadata": {
        "id": "DB1zlBEEfDlA"
      },
      "source": [
        "**MINI CHALLENGE #2:** \n",
        "- **Write a code that takes in two inputs (number of shares and prices) from the user and calculate the total account balance**"
      ]
    },
    {
      "cell_type": "code",
      "metadata": {
        "id": "s7fbv5eApK97"
      },
      "source": [
        ""
      ],
      "execution_count": null,
      "outputs": []
    },
    {
      "cell_type": "markdown",
      "metadata": {
        "id": "lBj4QkQEpLkX"
      },
      "source": [
        "# 3. LAMBDA EXPRESSIONS "
      ]
    },
    {
      "cell_type": "code",
      "metadata": {
        "id": "YtkjNLEypRTb"
      },
      "source": [
        "# Lambda function is used to create a function without a name \n",
        "# Lambda functions are mainly used with filter() and map() [they will be discussed later on]. \n",
        "# Lambda function can receive any number of arguments, but can only have one expression."
      ],
      "execution_count": null,
      "outputs": []
    },
    {
      "cell_type": "code",
      "metadata": {
        "id": "FV5-hEWdpRdd"
      },
      "source": [
        "# let's see how to create a basic function that squares the input\n",
        "def my_function(x):\n",
        "    return x**2"
      ],
      "execution_count": null,
      "outputs": []
    },
    {
      "cell_type": "code",
      "metadata": {
        "id": "cQZDrvwCpRa3",
        "outputId": "f1accd39-edfa-4bef-f35e-57c469bf34db",
        "colab": {
          "base_uri": "https://localhost:8080/",
          "height": 34
        }
      },
      "source": [
        "# Function call\n",
        "my_function(3)"
      ],
      "execution_count": null,
      "outputs": [
        {
          "output_type": "execute_result",
          "data": {
            "text/plain": [
              "9"
            ]
          },
          "metadata": {
            "tags": []
          },
          "execution_count": 20
        }
      ]
    },
    {
      "cell_type": "code",
      "metadata": {
        "id": "r5u0-IOBpRZq"
      },
      "source": [
        "# We can do the same task using Lambda expression\n",
        "# Note that there is no function name\n",
        "y = lambda x:x**2"
      ],
      "execution_count": null,
      "outputs": []
    },
    {
      "cell_type": "code",
      "metadata": {
        "id": "hLsuWg7apRW9",
        "outputId": "97d6bac7-e126-436b-adf4-a4f789b7dceb",
        "colab": {
          "base_uri": "https://localhost:8080/",
          "height": 34
        }
      },
      "source": [
        "y(3)"
      ],
      "execution_count": null,
      "outputs": [
        {
          "output_type": "execute_result",
          "data": {
            "text/plain": [
              "9"
            ]
          },
          "metadata": {
            "tags": []
          },
          "execution_count": 22
        }
      ]
    },
    {
      "cell_type": "code",
      "metadata": {
        "id": "OKcE7JHBuzTj"
      },
      "source": [
        "# Note that lambda expression can take in more than one argument \n",
        "# there is only one expression that could be performed\n",
        "def summation(x, y, z):\n",
        "    return x+y+z"
      ],
      "execution_count": null,
      "outputs": []
    },
    {
      "cell_type": "code",
      "metadata": {
        "id": "VyEdRTwXuzQ4",
        "outputId": "3f9cf196-6001-4cc8-e960-1930b6290a30",
        "colab": {
          "base_uri": "https://localhost:8080/",
          "height": 34
        }
      },
      "source": [
        "result = summation(1, 2, 3)\n",
        "result"
      ],
      "execution_count": null,
      "outputs": [
        {
          "output_type": "execute_result",
          "data": {
            "text/plain": [
              "6"
            ]
          },
          "metadata": {
            "tags": []
          },
          "execution_count": 24
        }
      ]
    },
    {
      "cell_type": "code",
      "metadata": {
        "id": "kAuNql-zuzPE"
      },
      "source": [
        "result = lambda    x, y, z : x+y+z   "
      ],
      "execution_count": null,
      "outputs": []
    },
    {
      "cell_type": "code",
      "metadata": {
        "id": "8PfLE79Lvuvg",
        "outputId": "bc84189d-da94-4727-8032-973df56cb7d1",
        "colab": {
          "base_uri": "https://localhost:8080/",
          "height": 34
        }
      },
      "source": [
        "result(1, 2, 3)"
      ],
      "execution_count": null,
      "outputs": [
        {
          "output_type": "execute_result",
          "data": {
            "text/plain": [
              "6"
            ]
          },
          "metadata": {
            "tags": []
          },
          "execution_count": 26
        }
      ]
    },
    {
      "cell_type": "markdown",
      "metadata": {
        "id": "KTRBKK97fQGG"
      },
      "source": [
        "**MINI CHALLENGE #3:**\n",
        "- **Repeat mini challenge #2 (Write a code that takes in two inputs from the user and calculates the total) using lambda expressions instead**"
      ]
    },
    {
      "cell_type": "code",
      "metadata": {
        "id": "jz5bvTOmuHhG"
      },
      "source": [
        ""
      ],
      "execution_count": null,
      "outputs": []
    },
    {
      "cell_type": "markdown",
      "metadata": {
        "id": "S8pekOcjKF6H"
      },
      "source": [
        "# 4. MAP "
      ]
    },
    {
      "cell_type": "code",
      "metadata": {
        "id": "-zx6IFX7KdKi"
      },
      "source": [
        "# The map() function takes in a function and a list.\n",
        "# map() performs an operation on the entire list and return the results in a new list.\n",
        "# Define two lists a and b\n",
        "a = [1, 4, 5, 6, 9]\n",
        "b = [1, 7, 9, 12, 7]"
      ],
      "execution_count": null,
      "outputs": []
    },
    {
      "cell_type": "code",
      "metadata": {
        "id": "l4AEJ33iih46"
      },
      "source": [
        "# Let's define a function that adds two elements together\n",
        "def summation(a, b):\n",
        "    return a + b"
      ],
      "execution_count": null,
      "outputs": []
    },
    {
      "cell_type": "code",
      "metadata": {
        "id": "8ZEm6BjIKdQ7",
        "outputId": "fab69650-720c-4b17-d053-383bd79784e5",
        "colab": {
          "base_uri": "https://localhost:8080/",
          "height": 34
        }
      },
      "source": [
        "# You can now use map() to apply a function to the entire list and generate a new list\n",
        "c = list(map(summation, a, b))\n",
        "c"
      ],
      "execution_count": null,
      "outputs": [
        {
          "output_type": "execute_result",
          "data": {
            "text/plain": [
              "[2, 11, 14, 18, 16]"
            ]
          },
          "metadata": {
            "tags": []
          },
          "execution_count": 29
        }
      ]
    },
    {
      "cell_type": "code",
      "metadata": {
        "id": "pc6LxQQFKdM2",
        "outputId": "e82edfae-58d2-40ce-e227-a9daca20882f",
        "colab": {
          "base_uri": "https://localhost:8080/",
          "height": 34
        }
      },
      "source": [
        "# map could be used with Lambda as follows\n",
        "# lambda function is an anonymous function that take any number of arguments and can only have one expression\n",
        "input_list = [1, 2, 3, 4]\n",
        "\n",
        "out_list = list(map ( lambda x:x**2 , input_list))\n",
        "out_list"
      ],
      "execution_count": null,
      "outputs": [
        {
          "output_type": "execute_result",
          "data": {
            "text/plain": [
              "[1, 4, 9, 16]"
            ]
          },
          "metadata": {
            "tags": []
          },
          "execution_count": 30
        }
      ]
    },
    {
      "cell_type": "markdown",
      "metadata": {
        "id": "Dj4Wcbr1gLo8"
      },
      "source": [
        "**MINI CHALLENGE #4:**\n",
        "- **Write a function that takes an argument and return its cubic value**\n",
        "- **Define a list of integers ranging from -10 to 10** \n",
        "- **Apply the function to the entire list and generate a new output list** \n"
      ]
    },
    {
      "cell_type": "code",
      "metadata": {
        "id": "pqXiuFVxvU18"
      },
      "source": [
        ""
      ],
      "execution_count": null,
      "outputs": []
    },
    {
      "cell_type": "markdown",
      "metadata": {
        "id": "BtAxpyeGKGA1"
      },
      "source": [
        "# 5. FILTER\n"
      ]
    },
    {
      "cell_type": "code",
      "metadata": {
        "id": "D5LVa00JKdz0"
      },
      "source": [
        "# filter is used to create a list of elements for which a function returns \"True\".\n",
        "prices = [105, 5055, 40, 356, 923, 1443, 222, 62]"
      ],
      "execution_count": null,
      "outputs": []
    },
    {
      "cell_type": "code",
      "metadata": {
        "id": "cgQq4hlcKd4A",
        "outputId": "c73538f5-5ef5-4190-c71d-aa439fac9a37",
        "colab": {
          "base_uri": "https://localhost:8080/",
          "height": 34
        }
      },
      "source": [
        "# return only even numbers\n",
        "out = list(filter( lambda x: (x % 2 == 0) , prices  ))\n",
        "out"
      ],
      "execution_count": null,
      "outputs": [
        {
          "output_type": "execute_result",
          "data": {
            "text/plain": [
              "[40, 356, 222, 62]"
            ]
          },
          "metadata": {
            "tags": []
          },
          "execution_count": 32
        }
      ]
    },
    {
      "cell_type": "code",
      "metadata": {
        "id": "shory4UpKd2Y",
        "outputId": "3c903e7e-bccf-4925-beab-f55707eb9525",
        "colab": {
          "base_uri": "https://localhost:8080/",
          "height": 34
        }
      },
      "source": [
        "# Return prices that are greater than or equal 100\n",
        "prices = [105, 5055, 40, 356, 923, 1443, 222, 62]\n",
        "out = list(  filter(lambda x: (x>=100) , prices) )\n",
        "out"
      ],
      "execution_count": null,
      "outputs": [
        {
          "output_type": "execute_result",
          "data": {
            "text/plain": [
              "[105, 5055, 356, 923, 1443, 222]"
            ]
          },
          "metadata": {
            "tags": []
          },
          "execution_count": 33
        }
      ]
    },
    {
      "cell_type": "code",
      "metadata": {
        "id": "uQi17-h_hlSf",
        "outputId": "a6b92412-6cee-498b-85d1-e571323f68fc",
        "colab": {
          "base_uri": "https://localhost:8080/",
          "height": 34
        }
      },
      "source": [
        "# Return values between 200 and 250\n",
        "out = list(  filter(lambda x: (x>=200 and x<=250) , prices) )\n",
        "out"
      ],
      "execution_count": null,
      "outputs": [
        {
          "output_type": "execute_result",
          "data": {
            "text/plain": [
              "[222]"
            ]
          },
          "metadata": {
            "tags": []
          },
          "execution_count": 34
        }
      ]
    },
    {
      "cell_type": "markdown",
      "metadata": {
        "id": "JZIiCmyvh7EW"
      },
      "source": [
        "**MINI CHALLENGE #5:**\n",
        "- **Write a code from the user that takes in a range (upper and lower bounds) and returns a list of positive and even numbers only** \n"
      ]
    },
    {
      "cell_type": "code",
      "metadata": {
        "id": "4JDq7Y04ve0S"
      },
      "source": [
        ""
      ],
      "execution_count": null,
      "outputs": []
    },
    {
      "cell_type": "markdown",
      "metadata": {
        "id": "BTLG7E2YeYIu"
      },
      "source": [
        "# MINI CHALLENGE SOLUTIONS"
      ]
    },
    {
      "cell_type": "markdown",
      "metadata": {
        "id": "Sr6wSsDGecLe"
      },
      "source": [
        "**MINI CHALLENGE #1 SOLUTION:**\n",
        "- **Write a code that takes in 2 lists x = [-1 -4 -7] and y = [-3 7 4] and  calculates the absolute sum of all its elements |x+y|**"
      ]
    },
    {
      "cell_type": "code",
      "metadata": {
        "id": "Ytdw0BKxKFRx",
        "outputId": "87abfbd8-fabe-48c9-9d95-f24cd27724e8",
        "colab": {
          "base_uri": "https://localhost:8080/",
          "height": 34
        }
      },
      "source": [
        "x = [-1, -4, -7]\n",
        "y = [-3, 7, 4]\n",
        "z = abs(sum(x+y))\n",
        "z"
      ],
      "execution_count": null,
      "outputs": [
        {
          "output_type": "execute_result",
          "data": {
            "text/plain": [
              "4"
            ]
          },
          "metadata": {
            "tags": []
          },
          "execution_count": 35
        }
      ]
    },
    {
      "cell_type": "markdown",
      "metadata": {
        "id": "YAh_RlMreu3V"
      },
      "source": [
        "**MINI CHALLENGE #2: SOLUTION** \n",
        "- **Write a code that takes in two inputs (number of units and prices) from the user and calculate the total account balance**"
      ]
    },
    {
      "cell_type": "code",
      "metadata": {
        "id": "7zwqjcIresGA"
      },
      "source": [
        "def total(units, price):\n",
        "    amount = units * price\n",
        "    return(amount)"
      ],
      "execution_count": null,
      "outputs": []
    },
    {
      "cell_type": "code",
      "metadata": {
        "id": "MjKWBisLet6b"
      },
      "source": [
        "num_shares = int(input(\"Enter the number of shares: \"))\n",
        "price = int(input(\"Enter the price per share: \"))\n",
        "account_balance = total(num_shares, price)\n",
        "\n",
        "print('Total account balance = {}'.format(account_balance))"
      ],
      "execution_count": null,
      "outputs": []
    },
    {
      "cell_type": "markdown",
      "metadata": {
        "id": "fCXG1j3qfipT"
      },
      "source": [
        "**MINI CHALLENGE #3 SOLUTION**\n",
        "- **Repeat mini challenge #2 (Write a code that takes in two inputs from the user and calculates the total) using lambda expressions instead**"
      ]
    },
    {
      "cell_type": "code",
      "metadata": {
        "id": "oYBrDfsTe-pI"
      },
      "source": [
        "num_shares = int(input(\"Enter the number of shares: \"))\n",
        "price = int(input(\"Enter the price per share: \"))\n",
        "\n",
        "account_balance = lambda num_shares, price : num_shares * price\n",
        "print('Total = {}'.format(account_balance(num_shares, price)))\n"
      ],
      "execution_count": null,
      "outputs": []
    },
    {
      "cell_type": "markdown",
      "metadata": {
        "id": "sAkiC9hYhHgX"
      },
      "source": [
        "**MINI CHALLENGE #4 SOLUTION:**\n",
        "- **Write a function that takes an argument and return its cubic value**\n",
        "- **Define a list of integers ranging from -10 to 10** \n",
        "- **Apply the function to the entire list and generate a new output list** "
      ]
    },
    {
      "cell_type": "code",
      "metadata": {
        "id": "hw2O6o4XhDLN"
      },
      "source": [
        "def cubic(x):\n",
        "    return (x*x*x)\n",
        "\n",
        "numbers = range(-10, 11)\n",
        "numbers_cubed = list(map(lambda x: cubic(x), numbers))\n",
        "print(list(numbers))\n",
        "print(numbers_cubed)"
      ],
      "execution_count": null,
      "outputs": []
    },
    {
      "cell_type": "markdown",
      "metadata": {
        "id": "WafFpX3zifYK"
      },
      "source": [
        "**MINI CHALLENGE #5 SOLUTION:**\n",
        "- **Write a code from the user that takes in a range (upper and lower bounds) and returns a list of positive and even numbers only** \n"
      ]
    },
    {
      "cell_type": "code",
      "metadata": {
        "id": "jbTis2cBib1x"
      },
      "source": [
        "min = int(input(\"Enter a number (lower bound) *must be negative* : \"))\n",
        "max = int(input(\"Enter a number (Upper bound:) \"))\n",
        "\n",
        "numbers = range(min, max)\n",
        "even_greater_than_zero = list(filter(lambda x: (x > 0 and x%2 == 0), numbers))\n",
        "print(even_greater_than_zero)\n"
      ],
      "execution_count": null,
      "outputs": []
    }
  ]
}